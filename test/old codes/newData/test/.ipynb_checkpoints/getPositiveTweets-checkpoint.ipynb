{
 "cells": [
  {
   "cell_type": "code",
   "execution_count": 5,
   "metadata": {},
   "outputs": [],
   "source": [
    "import os\n",
    "import time\n",
    "import re\n",
    "from nltk.corpus import stopwords\n",
    "\n",
    "from nltk.corpus import words\n",
    "\n",
    "\n",
    "import time\n",
    "from contextlib import contextmanager\n",
    "cachedStopWords = stopwords.words(\"english\")\n",
    "\n",
    "allEnglishWords = words.words()\n",
    "allEnglishWords[:] = [x.lower() for x in allEnglishWords]"
   ]
  },
  {
   "cell_type": "code",
   "execution_count": 6,
   "metadata": {},
   "outputs": [],
   "source": [
    "@contextmanager\n",
    "def timer(name):\n",
    "    t0 = time.time()\n",
    "    yield\n",
    "    print(\"\\n\\n\" + name + ' done in ' + str(round(time.time() - t0)) + 's \\n')\n",
    "\n",
    "\n",
    "def preprocess(text):\n",
    "\t# lowercase\n",
    "\ttext = text[3:]\n",
    "\ttext=text.lower()\n",
    "\ttext = ' '.join([word for word in text.split() if word not in cachedStopWords])\n",
    "\ttext = ' '.join([word for word in text.split() if( not word.startswith(\"@\") and not word.startswith(\"http\") and not word.startswith(\"\\\\\")) ])\n",
    "\ttext = ' '.join([word for word in text.split() if word in allEnglishWords])\n",
    "\t#text =  re.sub(\"[_]\",\"\",text)\n",
    "\t#remove tags\n",
    "\ttext=re.sub(\"&lt;/?.*?&gt;\",\" &lt;&gt; \",text)\n",
    "\t# remove special characters and digits\n",
    "\ttext=re.sub(\"(\\\\d|\\\\W)+\",\" \",text)\n",
    "\tif(text.startswith(\"rt \") or text.startswith(\" rt\")):\n",
    "\t\ttext = text[3:]\n",
    "\tif(text == \"rt\"):\n",
    "\t\ttext = \"\"\n",
    "\twhile(text != \"\" and text[0] == ' '):\n",
    "\t\ttext = text[1:]\n",
    "\treturn text\n",
    "\n",
    "\n",
    "if(os.path.isfile(\"texts.txt\")):\n",
    "\tos.remove(\"texts.txt\")\n",
    "    \n",
    "ids = []\n",
    "texts = []    \n"
   ]
  },
  {
   "cell_type": "code",
   "execution_count": 9,
   "metadata": {},
   "outputs": [
    {
     "name": "stdout",
     "output_type": "stream",
     "text": [
      "Starting 99941\n"
     ]
    },
    {
     "ename": "NameError",
     "evalue": "name 'ids' is not defined",
     "output_type": "error",
     "traceback": [
      "\u001b[0;31m---------------------------------------------------------------------------\u001b[0m",
      "\u001b[0;31mNameError\u001b[0m                                 Traceback (most recent call last)",
      "\u001b[0;32m<ipython-input-9-b577d1ff6b0a>\u001b[0m in \u001b[0;36m<module>\u001b[0;34m\u001b[0m\n\u001b[1;32m     12\u001b[0m                                 \u001b[0;32mcontinue\u001b[0m\u001b[0;34m\u001b[0m\u001b[0m\n\u001b[1;32m     13\u001b[0m                         \u001b[0ms\u001b[0m \u001b[0;34m=\u001b[0m \u001b[0ms\u001b[0m \u001b[0;34m+\u001b[0m \u001b[0;34m\"\\n\"\u001b[0m\u001b[0;34m\u001b[0m\u001b[0m\n\u001b[0;32m---> 14\u001b[0;31m                         \u001b[0;32mif\u001b[0m\u001b[0;34m(\u001b[0m \u001b[0mind\u001b[0m \u001b[0;32mnot\u001b[0m \u001b[0;32min\u001b[0m \u001b[0mids\u001b[0m\u001b[0;34m)\u001b[0m\u001b[0;34m:\u001b[0m\u001b[0;34m\u001b[0m\u001b[0m\n\u001b[0m\u001b[1;32m     15\u001b[0m                                 \u001b[0mtexts\u001b[0m\u001b[0;34m.\u001b[0m\u001b[0mappend\u001b[0m\u001b[0;34m(\u001b[0m\u001b[0ms\u001b[0m\u001b[0;34m)\u001b[0m\u001b[0;34m\u001b[0m\u001b[0m\n\u001b[1;32m     16\u001b[0m                                 \u001b[0mids\u001b[0m\u001b[0;34m.\u001b[0m\u001b[0mappend\u001b[0m\u001b[0;34m(\u001b[0m\u001b[0mind\u001b[0m\u001b[0;34m)\u001b[0m\u001b[0;34m\u001b[0m\u001b[0m\n",
      "\u001b[0;31mNameError\u001b[0m: name 'ids' is not defined"
     ]
    }
   ],
   "source": [
    "with  timer(\"Reading file 1\"):\n",
    "\tprint(\"Starting 99941\")\n",
    "\n",
    "\twith open(\"AnnotationData1.csv\",\"r\",encoding='utf-8', errors='ignore') as csvFile:\n",
    "\t\tfor line in csvFile:\n",
    "\t\t\tind = line.split(',')[0]\n",
    "\t\t\tind = ind[1:]\n",
    "\t\t\ts = line.split(',')[1]\n",
    "\t\t\ts = s[0:len(s) - 1]\n",
    "\t\t\ts = preprocess(s)\n",
    "\t\t\tif(s == \"\"):\n",
    "\t\t\t\tcontinue\n",
    "\t\t\ts = s + \"\\n\"\n",
    "\t\t\tif( ind not in ids):\n",
    "\t\t\t\ttexts.append(s)\n",
    "\t\t\t\tids.append(ind)\n",
    "\t\t\t\tprint(\"1 : \", len(texts))\n",
    "\n",
    "\tp = len(texts)\t\t\t\t\n",
    "\n",
    "\tprint(\"Got data 1\")"
   ]
  },
  {
   "cell_type": "code",
   "execution_count": null,
   "metadata": {},
   "outputs": [],
   "source": [
    "with timer(\"Reading file 2\"):\n",
    "\twith open(\"AnnotationData2.csv\",\"r\",encoding='utf-8', errors='ignore') as csvFile:\n",
    "\t\tfor line in csvFile:\n",
    "\t\t\tind = line.split(',')[0]\n",
    "\t\t\tind = ind[1:]\n",
    "\t\t\ts = line.split(',')[1]\n",
    "\t\t\ts = s[0:len(s) - 1]\n",
    "\t\t\ts = preprocess(s)\n",
    "\t\t\tif(s == \"\"):\n",
    "\t\t\t\tcontinue\n",
    "\t\t\ts = s + \"\\n\"\n",
    "\t\t\tif(ind not in ids):\n",
    "\t\t\t\ttexts.append(s)\n",
    "\t\t\t\tids.append(ind)\n",
    "\t\t\t\tprint(\"2 : \", len(texts) - p)\n",
    "\n",
    "\n",
    "\tprint(\"Got data 2\")\n",
    "\n",
    "print(len(ids))\n",
    "print(len(texts))\t"
   ]
  },
  {
   "cell_type": "code",
   "execution_count": null,
   "metadata": {},
   "outputs": [],
   "source": [
    "with timer(\"Saving data in file\"):\n",
    "\tprint(\"Saving data in file\")\n",
    "\n",
    "\n",
    "\tif(os.path.isfile(\"positiveTexts.txt\")):\n",
    "\t\tos.remove(\"positiveTexts.txt\")\n",
    "\n",
    "\tf = open(\"positiveTexts.txt\",\"a+\")\n",
    "\n",
    "\tfor text in texts:\n",
    "\t\tf.write(text)\n",
    "\n",
    "\ttime2 = time.time()\n",
    "\tprint(time2 - time1)\n",
    "\tf.close()"
   ]
  }
 ],
 "metadata": {
  "kernelspec": {
   "display_name": "Python 3",
   "language": "python",
   "name": "python3"
  },
  "language_info": {
   "codemirror_mode": {
    "name": "ipython",
    "version": 3
   },
   "file_extension": ".py",
   "mimetype": "text/x-python",
   "name": "python",
   "nbconvert_exporter": "python",
   "pygments_lexer": "ipython3",
   "version": "3.5.2"
  }
 },
 "nbformat": 4,
 "nbformat_minor": 2
}
