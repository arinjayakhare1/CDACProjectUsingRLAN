{
 "cells": [
  {
   "cell_type": "code",
   "execution_count": 1,
   "metadata": {},
   "outputs": [],
   "source": [
    "import random\n",
    "import os\n",
    "\n",
    "\n",
    "\n",
    "import time\n",
    "from contextlib import contextmanager\n",
    "\n",
    "@contextmanager\n",
    "def timer(name):\n",
    "    t0 = time.time()\n",
    "    yield\n",
    "    print(\"\\n\\n\" + name + ' done in ' + str(round(time.time() - t0)) + 's \\n')\n",
    "    \n",
    "\n",
    "texts = []\n",
    "scores = []\n"
   ]
  },
  {
   "cell_type": "code",
   "execution_count": 2,
   "metadata": {},
   "outputs": [
    {
     "name": "stdout",
     "output_type": "stream",
     "text": [
      "\n",
      "\n",
      "Reading file 1 done in 0s \n",
      "\n",
      "98827\n"
     ]
    }
   ],
   "source": [
    "with timer(\"Reading file 1\"):\n",
    "\twith open(\"radicalTexts.txt\",\"r\") as f:\n",
    "\t\tfor line in f:\n",
    "\t\t\tif(line.endswith(\"\\n\")):\n",
    "\t\t\t\tline = line[:-1]\n",
    "\t\t\ttexts.append(line)\n",
    "\t\t\tscores.append(1)\n",
    "\n",
    "print(len(texts))"
   ]
  },
  {
   "cell_type": "code",
   "execution_count": 3,
   "metadata": {},
   "outputs": [
    {
     "name": "stdout",
     "output_type": "stream",
     "text": [
      "\n",
      "\n",
      "Reading file 2 done in 0s \n",
      "\n"
     ]
    }
   ],
   "source": [
    "with timer(\"Reading file 2\"):\n",
    "\tcount = 0\n",
    "\twith open(\"normalTexts.txt\",\"r\") as f:\n",
    "\t\tfor line in f:\n",
    "\t\t\tif(line.endswith(\"\\n\")):\n",
    "\t\t\t\tline = line[:-1]\n",
    "\t\t\ttexts.append(line)\n",
    "\t\t\tscores.append(0)\n",
    "\t\t\tcount += 1\n",
    "\t\t\tif(count == 100000):\n",
    "\t\t\t\tbreak\n",
    "print(len(texts))"
   ]
  },
  {
   "cell_type": "code",
   "execution_count": null,
   "metadata": {},
   "outputs": [],
   "source": [
    "with timer(\"Reshuffling the array\"):\n",
    "\tarray = []\n",
    "\tfor x in range(0, len(texts)):\n",
    "\t\tarray.append(x)\n",
    "\trandom.shuffle(array)\n",
    "\tprint(array)\n",
    "\tprint(type(array))\n",
    "\n",
    "consecutiveZeroes = 0\n",
    "consecutiveOnes = 0"
   ]
  },
  {
   "cell_type": "code",
   "execution_count": null,
   "metadata": {},
   "outputs": [],
   "source": [
    "with timer(\"Saving to file\"):\n",
    "\tnewTexts = []\n",
    "\tnewScores = []\n",
    "\tconsecutiveZeroes = 0\n",
    "\tconsecutiveOnes = 1\n",
    "\n",
    "\tfor x in array:\n",
    "\t\tnewTexts.append(texts[x])\n",
    "\t\tnewScores.append(scores[x])\n",
    "\t\tif(len(newScores) > 1):\n",
    "\t\t\tt = len(newScores)\n",
    "\t\t\tif(newScores[t - 1] == 0 and newScores[t - 2] == 0):\n",
    "\t\t\t\tconsecutiveZeroes += 1\n",
    "\t\t\tif(newScores[t - 1] == 1 and newScores[t - 2] == 1):\n",
    "\t\t\t\tconsecutiveOnes += 1\n",
    "\n",
    "\tif(os.path.isfile(\"input.txt\")):\n",
    "\t\tos.remove(\"input.txt\")\n",
    "\n",
    "\tf = open(\"input.txt\",\"a+\")\n",
    "\n",
    "\tfor x in range(0,len(newTexts)):\n",
    "\t\ts = newTexts[x] + \",\" + str(newScores[x]) + \"\\n\"\n",
    "\t\tf.write(s)\n",
    "\tf.close()\n",
    "\t\n",
    "\tprint(\"consecutiveZeroes : \", consecutiveZeroes, \"\\nconsecutiveOnes : \", consecutiveOnes)\t"
   ]
  }
 ],
 "metadata": {
  "kernelspec": {
   "display_name": "Python 3",
   "language": "python",
   "name": "python3"
  },
  "language_info": {
   "codemirror_mode": {
    "name": "ipython",
    "version": 3
   },
   "file_extension": ".py",
   "mimetype": "text/x-python",
   "name": "python",
   "nbconvert_exporter": "python",
   "pygments_lexer": "ipython3",
   "version": "3.5.2"
  }
 },
 "nbformat": 4,
 "nbformat_minor": 2
}
